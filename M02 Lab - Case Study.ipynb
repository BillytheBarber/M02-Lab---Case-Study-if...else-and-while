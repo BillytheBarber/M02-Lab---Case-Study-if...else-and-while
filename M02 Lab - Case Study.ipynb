{
 "cells": [
  {
   "cell_type": "code",
   "execution_count": 7,
   "id": "67043094",
   "metadata": {},
   "outputs": [
    {
     "name": "stdout",
     "output_type": "stream",
     "text": [
      "What is the student last name?\n",
      "Tunio\n",
      "What is the student first name?\n",
      "Basharat\n",
      "what is Basharat Tunio GPA?\n",
      "3\n",
      "Basharat Tunio didn't made either the Dean's List or Honor Roll with their GPA being 3.0\n",
      "What is the next student last name?\n",
      "Tyler\n",
      "What is the student first name?\n",
      "Sam\n",
      "what is Sam Tyler GPA?\n",
      "4\n",
      "Sam Tyler made the Dean's List with their GPA being 4.0\n",
      "What is the next student last name?\n",
      "Cat\n",
      "What is the student first name?\n",
      "Dog\n",
      "what is Dog Cat GPA?\n",
      "3.27\n",
      "Dog Cat made the Honor Roll with their GPA being 3.27\n",
      "What is the next student last name?\n",
      "Junejo\n",
      "What is the student first name?\n",
      "Sania\n",
      "what is Sania Junejo GPA?\n",
      "3.5\n",
      "Sania Junejo made the Dean's List with their GPA being 3.5\n",
      "What is the next student last name?\n",
      "Abro\n",
      "What is the student first name?\n",
      "Zuneira\n",
      "what is Zuneira Abro GPA?\n",
      "0\n",
      "Zuneira Abro didn't made either the Dean's List or Honor Roll with their GPA being 0.0\n",
      "What is the next student last name?\n",
      "ZZZ\n"
     ]
    }
   ],
   "source": [
    "#Basharat Ali Tunio\n",
    "#Dean or honor list checker\n",
    "#the app will check whether the student qualifies for Dean list or Honor list based on their GPA\n",
    "\n",
    "#getting the comparison varibale for the loop\n",
    "print('What is the student last name?')\n",
    "last = input()                  #last is the variable that stores last name\n",
    "quit = 'ZZZ'                    #quit is the value that quits the loop\n",
    "\n",
    "#loop starts here\n",
    "while (last != quit):\n",
    "    \n",
    "    #asking for inputs\n",
    "    print('What is the student first name?')\n",
    "    first = input()             #First is the variable that stores first name\n",
    "    print('what is', first, last, 'GPA?')\n",
    "    GPA= float(input())         #GPA is the variable that stores GPA value\n",
    "    \n",
    "    #if statements that determine where the student will be placed\n",
    "    if GPA >= 3.5:\n",
    "        print(first, last, \"made the Dean's List with their GPA being\", GPA)\n",
    "    elif GPA>= 3.25:\n",
    "        print(first, last, \"made the Honor Roll with their GPA being\", GPA)\n",
    "    else:\n",
    "        print(first, last, \"didn't made either the Dean's List or Honor Roll with their GPA being\", GPA)\n",
    "        \n",
    "    #final loop statment that continues or breaks the loop    \n",
    "    print('What is the next student last name?')\n",
    "    last = input()\n"
   ]
  },
  {
   "cell_type": "code",
   "execution_count": null,
   "id": "7fe40760",
   "metadata": {},
   "outputs": [],
   "source": []
  }
 ],
 "metadata": {
  "kernelspec": {
   "display_name": "Python 3 (ipykernel)",
   "language": "python",
   "name": "python3"
  },
  "language_info": {
   "codemirror_mode": {
    "name": "ipython",
    "version": 3
   },
   "file_extension": ".py",
   "mimetype": "text/x-python",
   "name": "python",
   "nbconvert_exporter": "python",
   "pygments_lexer": "ipython3",
   "version": "3.9.13"
  }
 },
 "nbformat": 4,
 "nbformat_minor": 5
}
